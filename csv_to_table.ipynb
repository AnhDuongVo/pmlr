{
 "cells": [
  {
   "cell_type": "code",
   "execution_count": 29,
   "metadata": {},
   "outputs": [],
   "source": [
    "import pandas as pd\n",
    "import time\n",
    "from utils import *"
   ]
  },
  {
   "cell_type": "code",
   "execution_count": 8,
   "metadata": {},
   "outputs": [],
   "source": [
    "## The following cell is just to sort the combinations\n",
    "\n",
    "train_splits = []\n",
    "with open(\"combinations.txt\", \"r\") as f:\n",
    "    # only one line\n",
    "    line = f.readline().strip().split(\";\")\n",
    "    for t in line:\n",
    "        t = t.strip()\n",
    "        if not t: continue\n",
    "        train_splits.append(t.split(\",\"))\n",
    "\n",
    "sorting_order = {}\n",
    "for i, t in enumerate(train_splits):\n",
    "    sorting_order[\"\".join(t)] = i"
   ]
  },
  {
   "cell_type": "code",
   "execution_count": 25,
   "metadata": {},
   "outputs": [],
   "source": [
    "path = \"results_fhe_True\"\n",
    "\n",
    "df = pd.read_csv(f\"{path}.csv\")\n",
    "df = df.round(3)\n",
    "df = df.drop(columns=['id'])\n",
    "df = df.sort_values(by=['test_split', 'train_split'], key=lambda x: x.map(sorting_order))"
   ]
  },
  {
   "cell_type": "code",
   "execution_count": 26,
   "metadata": {},
   "outputs": [],
   "source": [
    "std_factor = 1\n",
    "\n",
    "df[\"accuracy\"] = df.apply(lambda row: f\"{(100 * row['accuracy_mean']):.2f} ± { ( std_factor * 100 * row['accuracy_std']):.2f}\", axis=1)\n",
    "df[\"balanced_accuracy\"] = df.apply(lambda row: f\"{(100 * row['balanced_accuracy_mean']):.2f} ± { ( std_factor * 100 * row['balanced_accuracy_std']):.2f}\", axis=1)\n",
    "df[\"f1_score\"] = df.apply(lambda row: f\"{(100 * row['f1_score_mean']):.2f} ± { ( std_factor * 100 * row['f1_score_std']):.2f}\", axis=1)\n",
    "df[\"average_precision_score\"] = df.apply(lambda row: f\"{(100 * row['average_precision_score_mean']):.2f} ± { ( std_factor * 100 * row['average_precision_score_std']):.2f}\", axis=1)\n",
    "\n",
    "df = df.drop(columns=['accuracy_mean', 'accuracy_std', 'balanced_accuracy_mean', 'balanced_accuracy_std', 'f1_score_mean', 'f1_score_std', 'average_precision_score_mean', 'average_precision_score_std'])\n",
    "\n",
    "\n",
    "df = df[['test_split', 'train_split', 'accuracy', 'balanced_accuracy', 'f1_score', 'average_precision_score']]"
   ]
  },
  {
   "cell_type": "code",
   "execution_count": 27,
   "metadata": {},
   "outputs": [
    {
     "data": {
      "text/html": [
       "<div>\n",
       "<style scoped>\n",
       "    .dataframe tbody tr th:only-of-type {\n",
       "        vertical-align: middle;\n",
       "    }\n",
       "\n",
       "    .dataframe tbody tr th {\n",
       "        vertical-align: top;\n",
       "    }\n",
       "\n",
       "    .dataframe thead th {\n",
       "        text-align: right;\n",
       "    }\n",
       "</style>\n",
       "<table border=\"1\" class=\"dataframe\">\n",
       "  <thead>\n",
       "    <tr style=\"text-align: right;\">\n",
       "      <th></th>\n",
       "      <th>test_split</th>\n",
       "      <th>train_split</th>\n",
       "      <th>accuracy</th>\n",
       "      <th>balanced_accuracy</th>\n",
       "      <th>f1_score</th>\n",
       "      <th>average_precision_score</th>\n",
       "    </tr>\n",
       "  </thead>\n",
       "  <tbody>\n",
       "    <tr>\n",
       "      <th>0</th>\n",
       "      <td>A</td>\n",
       "      <td>A</td>\n",
       "      <td>83.10 ± 11.40</td>\n",
       "      <td>61.30 ± 9.30</td>\n",
       "      <td>21.80 ± 18.30</td>\n",
       "      <td>16.50 ± 7.70</td>\n",
       "    </tr>\n",
       "    <tr>\n",
       "      <th>4</th>\n",
       "      <td>A</td>\n",
       "      <td>B</td>\n",
       "      <td>87.60 ± 6.70</td>\n",
       "      <td>61.90 ± 8.10</td>\n",
       "      <td>27.30 ± 18.50</td>\n",
       "      <td>19.20 ± 7.90</td>\n",
       "    </tr>\n",
       "    <tr>\n",
       "      <th>8</th>\n",
       "      <td>A</td>\n",
       "      <td>C</td>\n",
       "      <td>87.50 ± 7.70</td>\n",
       "      <td>59.80 ± 7.80</td>\n",
       "      <td>23.50 ± 17.60</td>\n",
       "      <td>17.70 ± 7.50</td>\n",
       "    </tr>\n",
       "    <tr>\n",
       "      <th>12</th>\n",
       "      <td>A</td>\n",
       "      <td>D</td>\n",
       "      <td>71.10 ± 12.20</td>\n",
       "      <td>65.70 ± 4.90</td>\n",
       "      <td>27.30 ± 6.30</td>\n",
       "      <td>14.90 ± 2.10</td>\n",
       "    </tr>\n",
       "    <tr>\n",
       "      <th>16</th>\n",
       "      <td>A</td>\n",
       "      <td>AB</td>\n",
       "      <td>87.40 ± 8.60</td>\n",
       "      <td>57.00 ± 8.20</td>\n",
       "      <td>17.70 ± 19.50</td>\n",
       "      <td>15.60 ± 8.50</td>\n",
       "    </tr>\n",
       "  </tbody>\n",
       "</table>\n",
       "</div>"
      ],
      "text/plain": [
       "   test_split train_split       accuracy balanced_accuracy       f1_score  \\\n",
       "0           A           A  83.10 ± 11.40      61.30 ± 9.30  21.80 ± 18.30   \n",
       "4           A           B   87.60 ± 6.70      61.90 ± 8.10  27.30 ± 18.50   \n",
       "8           A           C   87.50 ± 7.70      59.80 ± 7.80  23.50 ± 17.60   \n",
       "12          A           D  71.10 ± 12.20      65.70 ± 4.90   27.30 ± 6.30   \n",
       "16          A          AB   87.40 ± 8.60      57.00 ± 8.20  17.70 ± 19.50   \n",
       "\n",
       "   average_precision_score  \n",
       "0             16.50 ± 7.70  \n",
       "4             19.20 ± 7.90  \n",
       "8             17.70 ± 7.50  \n",
       "12            14.90 ± 2.10  \n",
       "16            15.60 ± 8.50  "
      ]
     },
     "execution_count": 27,
     "metadata": {},
     "output_type": "execute_result"
    }
   ],
   "source": [
    "df.head()"
   ]
  },
  {
   "cell_type": "code",
   "execution_count": 28,
   "metadata": {},
   "outputs": [],
   "source": [
    "df.to_markdown(f\"{path}.md\", index=False)"
   ]
  },
  {
   "cell_type": "code",
   "execution_count": null,
   "metadata": {},
   "outputs": [],
   "source": [
    "for split in [\"A\", \"B\", \"C\", \"D\"]:\n",
    "    for mode in [\"train\", \"test\"]:\n",
    "        s = load_data(split, mode, False)"
   ]
  },
  {
   "cell_type": "code",
   "execution_count": null,
   "metadata": {},
   "outputs": [],
   "source": []
  }
 ],
 "metadata": {
  "kernelspec": {
   "display_name": "pmlr_env",
   "language": "python",
   "name": "python3"
  },
  "language_info": {
   "codemirror_mode": {
    "name": "ipython",
    "version": 3
   },
   "file_extension": ".py",
   "mimetype": "text/x-python",
   "name": "python",
   "nbconvert_exporter": "python",
   "pygments_lexer": "ipython3",
   "version": "3.10.12"
  }
 },
 "nbformat": 4,
 "nbformat_minor": 2
}
